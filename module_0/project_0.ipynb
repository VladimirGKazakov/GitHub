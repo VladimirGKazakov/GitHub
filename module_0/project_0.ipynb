{
 "cells": [
  {
   "cell_type": "code",
   "execution_count": 38,
   "metadata": {},
   "outputs": [
    {
     "name": "stdout",
     "output_type": "stream",
     "text": [
      "Ваш алгоритм угадывает число в среднем за 5 попыток\n"
     ]
    },
    {
     "data": {
      "text/plain": [
       "5"
      ]
     },
     "execution_count": 38,
     "metadata": {},
     "output_type": "execute_result"
    }
   ],
   "source": [
    "import numpy as np\n",
    "\n",
    "def game_core_v3(number):\n",
    "    '''Определяем границы возможного числа, находим среднее натуральное число в этих границах и сравниваем\n",
    "       с загаданным числом.\n",
    "       Если среднее число больше загаданного, то считаем нижней границей вохможного числа среднее число.\n",
    "       Иначе если среднее число меньше загаданного, то считаем верхней границей возможного числа среднее число.\n",
    "       Функция принимает загаданное число и возвращает число попыток'''\n",
    "    count = 0           # число попыток\n",
    "    predict = 0         # вероятное число\n",
    "    min_limit = 1       # нижняя граница интервала возможных чисел\n",
    "    max_limit = 100+1   # верхняя граница интервала возможных чисел\n",
    "    \n",
    "    while number != predict:\n",
    "        count+=1\n",
    "        predict = int(max_limit - (max_limit - min_limit)/2)\n",
    "        if number > predict: \n",
    "            min_limit = predict\n",
    "        elif number < predict: \n",
    "            max_limit = predict\n",
    "    return(count) # выход из цикла, если угадали\n",
    "\n",
    "def score_game(game_core):\n",
    "    '''Запускаем игру 1000 раз, чтобы узнать, как быстро игра угадывает число'''\n",
    "    count_ls = []      # последовательность с числом попыток\n",
    "    np.random.seed(1)  # фиксируем RANDOM SEED, чтобы ваш эксперимент был воспроизводим!\n",
    "    random_array = np.random.randint(1,101, size=(1000))     # последовательность случайных чисел\n",
    "    for number in random_array:\n",
    "        count_ls.append(game_core(number))\n",
    "    score = int(np.mean(count_ls))\n",
    "    print(f\"Ваш алгоритм угадывает число в среднем за {score} попыток\")\n",
    "    return(score)\n",
    "\n",
    "score_game(game_core_v3)"
   ]
  }
 ],
 "metadata": {
  "kernelspec": {
   "display_name": "Python 3",
   "language": "python",
   "name": "python3"
  },
  "language_info": {
   "codemirror_mode": {
    "name": "ipython",
    "version": 3
   },
   "file_extension": ".py",
   "mimetype": "text/x-python",
   "name": "python",
   "nbconvert_exporter": "python",
   "pygments_lexer": "ipython3",
   "version": "3.8.5"
  }
 },
 "nbformat": 4,
 "nbformat_minor": 4
}
